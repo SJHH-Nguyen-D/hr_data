{
  "nbformat": 4,
  "nbformat_minor": 0,
  "metadata": {
    "colab": {
      "name": "HR assignment.ipynb",
      "provenance": []
    },
    "kernelspec": {
      "name": "python3",
      "display_name": "Python 3"
    }
  },
  "cells": [
    {
      "cell_type": "markdown",
      "metadata": {
        "id": "uiqacyFDVVaI",
        "colab_type": "text"
      },
      "source": [
        "#Introduction"
      ]
    },
    {
      "cell_type": "markdown",
      "metadata": {
        "id": "T80UKd4JVY5U",
        "colab_type": "text"
      },
      "source": [
        "intro paragraph"
      ]
    },
    {
      "cell_type": "markdown",
      "metadata": {
        "id": "6NI-rTaQVPox",
        "colab_type": "text"
      },
      "source": [
        "#Data"
      ]
    },
    {
      "cell_type": "markdown",
      "metadata": {
        "id": "Y0_ge_I-VeXe",
        "colab_type": "text"
      },
      "source": [
        "##Imports"
      ]
    },
    {
      "cell_type": "code",
      "metadata": {
        "id": "6l-wbVzdT5yn",
        "colab_type": "code",
        "colab": {}
      },
      "source": [
        "import pandas as pd\n",
        "import numpy as np\n",
        "from google.colab import drive\n",
        "import matplotlib.pyplot as plt\n",
        "import seaborn as sb\n",
        "from sklearn.model_selection import train_test_split\n",
        "from sklearn.preprocessing import StandardScaler\n",
        "from sklearn.feature_selection import SelectFromModel\n",
        "from sklearn.feature_selection import RFE\n",
        "from sklearn.linear_model import LogisticRegression\n",
        "from sklearn.pipeline import Pipeline\n",
        "from sklearn.model_selection import cross_validate\n",
        "from sklearn.metrics import confusion_matrix\n",
        "from sklearn.metrics import classification_report"
      ],
      "execution_count": 0,
      "outputs": []
    },
    {
      "cell_type": "code",
      "metadata": {
        "id": "tdTwEGI_UDtf",
        "colab_type": "code",
        "outputId": "56674733-641c-49d1-d032-6e698c403687",
        "colab": {
          "base_uri": "https://localhost:8080/",
          "height": 34
        }
      },
      "source": [
        "drive.mount('/content/Drive')"
      ],
      "execution_count": 2,
      "outputs": [
        {
          "output_type": "stream",
          "text": [
            "Drive already mounted at /content/Drive; to attempt to forcibly remount, call drive.mount(\"/content/Drive\", force_remount=True).\n"
          ],
          "name": "stdout"
        }
      ]
    },
    {
      "cell_type": "code",
      "metadata": {
        "id": "ikyNoTsuUHa4",
        "colab_type": "code",
        "colab": {}
      },
      "source": [
        "hr_data=pd.read_csv('/content/Drive/My Drive/hr-data.csv',low_memory=False)"
      ],
      "execution_count": 0,
      "outputs": []
    },
    {
      "cell_type": "markdown",
      "metadata": {
        "id": "x1UAHyQXVhge",
        "colab_type": "text"
      },
      "source": [
        "##Exploratory Data Analysis"
      ]
    },
    {
      "cell_type": "code",
      "metadata": {
        "id": "DOMD2IrvUYzi",
        "colab_type": "code",
        "outputId": "4ae01d98-f01e-4afc-9756-e13220191728",
        "colab": {
          "base_uri": "https://localhost:8080/",
          "height": 323
        }
      },
      "source": [
        "hr_data.info()"
      ],
      "execution_count": 4,
      "outputs": [
        {
          "output_type": "stream",
          "text": [
            "<class 'pandas.core.frame.DataFrame'>\n",
            "RangeIndex: 14999 entries, 0 to 14998\n",
            "Data columns (total 11 columns):\n",
            " #   Column                 Non-Null Count  Dtype  \n",
            "---  ------                 --------------  -----  \n",
            " 0   id                     14999 non-null  int64  \n",
            " 1   satisfaction_level     14999 non-null  float64\n",
            " 2   last_evaluation        14999 non-null  float64\n",
            " 3   number_project         14999 non-null  int64  \n",
            " 4   average_montly_hours   14999 non-null  int64  \n",
            " 5   time_spend_company     14999 non-null  int64  \n",
            " 6   Work_accident          14999 non-null  int64  \n",
            " 7   churn                  14999 non-null  int64  \n",
            " 8   promotion_last_5years  14999 non-null  int64  \n",
            " 9   sales                  14999 non-null  object \n",
            " 10  salary                 14999 non-null  object \n",
            "dtypes: float64(2), int64(7), object(2)\n",
            "memory usage: 1.3+ MB\n"
          ],
          "name": "stdout"
        }
      ]
    },
    {
      "cell_type": "code",
      "metadata": {
        "id": "F58WH0JjUg6X",
        "colab_type": "code",
        "outputId": "5db0ec62-c023-4ce6-ccc0-b63edea025c2",
        "colab": {
          "base_uri": "https://localhost:8080/",
          "height": 34
        }
      },
      "source": [
        "hr_data.size"
      ],
      "execution_count": 5,
      "outputs": [
        {
          "output_type": "execute_result",
          "data": {
            "text/plain": [
              "164989"
            ]
          },
          "metadata": {
            "tags": []
          },
          "execution_count": 5
        }
      ]
    },
    {
      "cell_type": "code",
      "metadata": {
        "id": "esw4j-CjUigK",
        "colab_type": "code",
        "outputId": "a745bf45-39b2-458c-e169-d6daf5079f65",
        "colab": {
          "base_uri": "https://localhost:8080/",
          "height": 419
        }
      },
      "source": [
        "hr_data"
      ],
      "execution_count": 6,
      "outputs": [
        {
          "output_type": "execute_result",
          "data": {
            "text/html": [
              "<div>\n",
              "<style scoped>\n",
              "    .dataframe tbody tr th:only-of-type {\n",
              "        vertical-align: middle;\n",
              "    }\n",
              "\n",
              "    .dataframe tbody tr th {\n",
              "        vertical-align: top;\n",
              "    }\n",
              "\n",
              "    .dataframe thead th {\n",
              "        text-align: right;\n",
              "    }\n",
              "</style>\n",
              "<table border=\"1\" class=\"dataframe\">\n",
              "  <thead>\n",
              "    <tr style=\"text-align: right;\">\n",
              "      <th></th>\n",
              "      <th>id</th>\n",
              "      <th>satisfaction_level</th>\n",
              "      <th>last_evaluation</th>\n",
              "      <th>number_project</th>\n",
              "      <th>average_montly_hours</th>\n",
              "      <th>time_spend_company</th>\n",
              "      <th>Work_accident</th>\n",
              "      <th>churn</th>\n",
              "      <th>promotion_last_5years</th>\n",
              "      <th>sales</th>\n",
              "      <th>salary</th>\n",
              "    </tr>\n",
              "  </thead>\n",
              "  <tbody>\n",
              "    <tr>\n",
              "      <th>0</th>\n",
              "      <td>0</td>\n",
              "      <td>0.38</td>\n",
              "      <td>0.53</td>\n",
              "      <td>2</td>\n",
              "      <td>157</td>\n",
              "      <td>3</td>\n",
              "      <td>0</td>\n",
              "      <td>1</td>\n",
              "      <td>0</td>\n",
              "      <td>sales</td>\n",
              "      <td>low</td>\n",
              "    </tr>\n",
              "    <tr>\n",
              "      <th>1</th>\n",
              "      <td>1</td>\n",
              "      <td>0.80</td>\n",
              "      <td>0.86</td>\n",
              "      <td>5</td>\n",
              "      <td>262</td>\n",
              "      <td>6</td>\n",
              "      <td>0</td>\n",
              "      <td>1</td>\n",
              "      <td>0</td>\n",
              "      <td>sales</td>\n",
              "      <td>medium</td>\n",
              "    </tr>\n",
              "    <tr>\n",
              "      <th>2</th>\n",
              "      <td>2</td>\n",
              "      <td>0.11</td>\n",
              "      <td>0.88</td>\n",
              "      <td>7</td>\n",
              "      <td>272</td>\n",
              "      <td>4</td>\n",
              "      <td>0</td>\n",
              "      <td>1</td>\n",
              "      <td>0</td>\n",
              "      <td>sales</td>\n",
              "      <td>medium</td>\n",
              "    </tr>\n",
              "    <tr>\n",
              "      <th>3</th>\n",
              "      <td>3</td>\n",
              "      <td>0.72</td>\n",
              "      <td>0.87</td>\n",
              "      <td>5</td>\n",
              "      <td>223</td>\n",
              "      <td>5</td>\n",
              "      <td>0</td>\n",
              "      <td>1</td>\n",
              "      <td>0</td>\n",
              "      <td>sales</td>\n",
              "      <td>low</td>\n",
              "    </tr>\n",
              "    <tr>\n",
              "      <th>4</th>\n",
              "      <td>4</td>\n",
              "      <td>0.37</td>\n",
              "      <td>0.52</td>\n",
              "      <td>2</td>\n",
              "      <td>159</td>\n",
              "      <td>3</td>\n",
              "      <td>0</td>\n",
              "      <td>1</td>\n",
              "      <td>0</td>\n",
              "      <td>sales</td>\n",
              "      <td>low</td>\n",
              "    </tr>\n",
              "    <tr>\n",
              "      <th>...</th>\n",
              "      <td>...</td>\n",
              "      <td>...</td>\n",
              "      <td>...</td>\n",
              "      <td>...</td>\n",
              "      <td>...</td>\n",
              "      <td>...</td>\n",
              "      <td>...</td>\n",
              "      <td>...</td>\n",
              "      <td>...</td>\n",
              "      <td>...</td>\n",
              "      <td>...</td>\n",
              "    </tr>\n",
              "    <tr>\n",
              "      <th>14994</th>\n",
              "      <td>14994</td>\n",
              "      <td>0.40</td>\n",
              "      <td>0.57</td>\n",
              "      <td>2</td>\n",
              "      <td>151</td>\n",
              "      <td>3</td>\n",
              "      <td>0</td>\n",
              "      <td>1</td>\n",
              "      <td>0</td>\n",
              "      <td>support</td>\n",
              "      <td>low</td>\n",
              "    </tr>\n",
              "    <tr>\n",
              "      <th>14995</th>\n",
              "      <td>14995</td>\n",
              "      <td>0.37</td>\n",
              "      <td>0.48</td>\n",
              "      <td>2</td>\n",
              "      <td>160</td>\n",
              "      <td>3</td>\n",
              "      <td>0</td>\n",
              "      <td>1</td>\n",
              "      <td>0</td>\n",
              "      <td>support</td>\n",
              "      <td>low</td>\n",
              "    </tr>\n",
              "    <tr>\n",
              "      <th>14996</th>\n",
              "      <td>14996</td>\n",
              "      <td>0.37</td>\n",
              "      <td>0.53</td>\n",
              "      <td>2</td>\n",
              "      <td>143</td>\n",
              "      <td>3</td>\n",
              "      <td>0</td>\n",
              "      <td>1</td>\n",
              "      <td>0</td>\n",
              "      <td>support</td>\n",
              "      <td>low</td>\n",
              "    </tr>\n",
              "    <tr>\n",
              "      <th>14997</th>\n",
              "      <td>14997</td>\n",
              "      <td>0.11</td>\n",
              "      <td>0.96</td>\n",
              "      <td>6</td>\n",
              "      <td>280</td>\n",
              "      <td>4</td>\n",
              "      <td>0</td>\n",
              "      <td>1</td>\n",
              "      <td>0</td>\n",
              "      <td>support</td>\n",
              "      <td>low</td>\n",
              "    </tr>\n",
              "    <tr>\n",
              "      <th>14998</th>\n",
              "      <td>14998</td>\n",
              "      <td>0.37</td>\n",
              "      <td>0.52</td>\n",
              "      <td>2</td>\n",
              "      <td>158</td>\n",
              "      <td>3</td>\n",
              "      <td>0</td>\n",
              "      <td>1</td>\n",
              "      <td>0</td>\n",
              "      <td>support</td>\n",
              "      <td>low</td>\n",
              "    </tr>\n",
              "  </tbody>\n",
              "</table>\n",
              "<p>14999 rows × 11 columns</p>\n",
              "</div>"
            ],
            "text/plain": [
              "          id  satisfaction_level  ...    sales  salary\n",
              "0          0                0.38  ...    sales     low\n",
              "1          1                0.80  ...    sales  medium\n",
              "2          2                0.11  ...    sales  medium\n",
              "3          3                0.72  ...    sales     low\n",
              "4          4                0.37  ...    sales     low\n",
              "...      ...                 ...  ...      ...     ...\n",
              "14994  14994                0.40  ...  support     low\n",
              "14995  14995                0.37  ...  support     low\n",
              "14996  14996                0.37  ...  support     low\n",
              "14997  14997                0.11  ...  support     low\n",
              "14998  14998                0.37  ...  support     low\n",
              "\n",
              "[14999 rows x 11 columns]"
            ]
          },
          "metadata": {
            "tags": []
          },
          "execution_count": 6
        }
      ]
    },
    {
      "cell_type": "code",
      "metadata": {
        "id": "37y_YNLMUngO",
        "colab_type": "code",
        "outputId": "13e53e0e-e2e8-42ee-9fdb-3e8d3b3929b4",
        "colab": {
          "base_uri": "https://localhost:8080/",
          "height": 221
        }
      },
      "source": [
        "hr_data.isnull().sum()"
      ],
      "execution_count": 7,
      "outputs": [
        {
          "output_type": "execute_result",
          "data": {
            "text/plain": [
              "id                       0\n",
              "satisfaction_level       0\n",
              "last_evaluation          0\n",
              "number_project           0\n",
              "average_montly_hours     0\n",
              "time_spend_company       0\n",
              "Work_accident            0\n",
              "churn                    0\n",
              "promotion_last_5years    0\n",
              "sales                    0\n",
              "salary                   0\n",
              "dtype: int64"
            ]
          },
          "metadata": {
            "tags": []
          },
          "execution_count": 7
        }
      ]
    },
    {
      "cell_type": "code",
      "metadata": {
        "id": "KtfcZvJ_UrX5",
        "colab_type": "code",
        "outputId": "88d2f029-dc12-400e-a40a-f5a7e86e84db",
        "colab": {
          "base_uri": "https://localhost:8080/",
          "height": 221
        }
      },
      "source": [
        "hr_data.nunique()"
      ],
      "execution_count": 8,
      "outputs": [
        {
          "output_type": "execute_result",
          "data": {
            "text/plain": [
              "id                       14999\n",
              "satisfaction_level          92\n",
              "last_evaluation             65\n",
              "number_project               6\n",
              "average_montly_hours       215\n",
              "time_spend_company           8\n",
              "Work_accident                2\n",
              "churn                        2\n",
              "promotion_last_5years        2\n",
              "sales                       10\n",
              "salary                       3\n",
              "dtype: int64"
            ]
          },
          "metadata": {
            "tags": []
          },
          "execution_count": 8
        }
      ]
    },
    {
      "cell_type": "code",
      "metadata": {
        "id": "eJUGLbt2qNra",
        "colab_type": "code",
        "colab": {}
      },
      "source": [
        "#types of variables\n",
        "categorical_variables = [\n",
        "    'number_project',\n",
        "    'time_spend_company',\n",
        "    'Work_accident',\n",
        "    'promotion_last_5years'\n",
        "    'sales'\n",
        "    'salary'\n",
        "]\n",
        "\n",
        "numerical_variables = [\n",
        "    'satisfaction_level',\n",
        "    'last_evaluation',\n",
        "    'average_montly_hours'\n",
        "]\n",
        "\n",
        "target = ['churn']\n"
      ],
      "execution_count": 0,
      "outputs": []
    },
    {
      "cell_type": "code",
      "metadata": {
        "id": "1AaQQpmcPZsU",
        "colab_type": "code",
        "colab": {
          "base_uri": "https://localhost:8080/",
          "height": 510
        },
        "outputId": "9af2c007-5a2b-4b4c-9b7a-f7a866bac4e8"
      },
      "source": [
        "hr_data_dm=pd.get_dummies(hr_data, columns=['sales','salary'])\n",
        "hr_data_dm.info()"
      ],
      "execution_count": 10,
      "outputs": [
        {
          "output_type": "stream",
          "text": [
            "<class 'pandas.core.frame.DataFrame'>\n",
            "RangeIndex: 14999 entries, 0 to 14998\n",
            "Data columns (total 22 columns):\n",
            " #   Column                 Non-Null Count  Dtype  \n",
            "---  ------                 --------------  -----  \n",
            " 0   id                     14999 non-null  int64  \n",
            " 1   satisfaction_level     14999 non-null  float64\n",
            " 2   last_evaluation        14999 non-null  float64\n",
            " 3   number_project         14999 non-null  int64  \n",
            " 4   average_montly_hours   14999 non-null  int64  \n",
            " 5   time_spend_company     14999 non-null  int64  \n",
            " 6   Work_accident          14999 non-null  int64  \n",
            " 7   churn                  14999 non-null  int64  \n",
            " 8   promotion_last_5years  14999 non-null  int64  \n",
            " 9   sales_IT               14999 non-null  uint8  \n",
            " 10  sales_RandD            14999 non-null  uint8  \n",
            " 11  sales_accounting       14999 non-null  uint8  \n",
            " 12  sales_hr               14999 non-null  uint8  \n",
            " 13  sales_management       14999 non-null  uint8  \n",
            " 14  sales_marketing        14999 non-null  uint8  \n",
            " 15  sales_product_mng      14999 non-null  uint8  \n",
            " 16  sales_sales            14999 non-null  uint8  \n",
            " 17  sales_support          14999 non-null  uint8  \n",
            " 18  sales_technical        14999 non-null  uint8  \n",
            " 19  salary_high            14999 non-null  uint8  \n",
            " 20  salary_low             14999 non-null  uint8  \n",
            " 21  salary_medium          14999 non-null  uint8  \n",
            "dtypes: float64(2), int64(7), uint8(13)\n",
            "memory usage: 1.2 MB\n"
          ],
          "name": "stdout"
        }
      ]
    },
    {
      "cell_type": "markdown",
      "metadata": {
        "id": "3GrwxSpJnT_P",
        "colab_type": "text"
      },
      "source": [
        "Create a new dataframe for dummy variables to be applied."
      ]
    },
    {
      "cell_type": "code",
      "metadata": {
        "id": "MSeaZ9czVHeC",
        "colab_type": "code",
        "outputId": "e3640a63-c8b0-4240-c1a8-0bf5ed8c3bf0",
        "colab": {
          "base_uri": "https://localhost:8080/",
          "height": 297
        }
      },
      "source": [
        "hr_data[['satisfaction_level','last_evaluation','number_project','average_montly_hours','time_spend_company']].describe()"
      ],
      "execution_count": 11,
      "outputs": [
        {
          "output_type": "execute_result",
          "data": {
            "text/html": [
              "<div>\n",
              "<style scoped>\n",
              "    .dataframe tbody tr th:only-of-type {\n",
              "        vertical-align: middle;\n",
              "    }\n",
              "\n",
              "    .dataframe tbody tr th {\n",
              "        vertical-align: top;\n",
              "    }\n",
              "\n",
              "    .dataframe thead th {\n",
              "        text-align: right;\n",
              "    }\n",
              "</style>\n",
              "<table border=\"1\" class=\"dataframe\">\n",
              "  <thead>\n",
              "    <tr style=\"text-align: right;\">\n",
              "      <th></th>\n",
              "      <th>satisfaction_level</th>\n",
              "      <th>last_evaluation</th>\n",
              "      <th>number_project</th>\n",
              "      <th>average_montly_hours</th>\n",
              "      <th>time_spend_company</th>\n",
              "    </tr>\n",
              "  </thead>\n",
              "  <tbody>\n",
              "    <tr>\n",
              "      <th>count</th>\n",
              "      <td>14999.000000</td>\n",
              "      <td>14999.000000</td>\n",
              "      <td>14999.000000</td>\n",
              "      <td>14999.000000</td>\n",
              "      <td>14999.000000</td>\n",
              "    </tr>\n",
              "    <tr>\n",
              "      <th>mean</th>\n",
              "      <td>0.612834</td>\n",
              "      <td>0.716102</td>\n",
              "      <td>3.803054</td>\n",
              "      <td>201.050337</td>\n",
              "      <td>3.498233</td>\n",
              "    </tr>\n",
              "    <tr>\n",
              "      <th>std</th>\n",
              "      <td>0.248631</td>\n",
              "      <td>0.171169</td>\n",
              "      <td>1.232592</td>\n",
              "      <td>49.943099</td>\n",
              "      <td>1.460136</td>\n",
              "    </tr>\n",
              "    <tr>\n",
              "      <th>min</th>\n",
              "      <td>0.090000</td>\n",
              "      <td>0.360000</td>\n",
              "      <td>2.000000</td>\n",
              "      <td>96.000000</td>\n",
              "      <td>2.000000</td>\n",
              "    </tr>\n",
              "    <tr>\n",
              "      <th>25%</th>\n",
              "      <td>0.440000</td>\n",
              "      <td>0.560000</td>\n",
              "      <td>3.000000</td>\n",
              "      <td>156.000000</td>\n",
              "      <td>3.000000</td>\n",
              "    </tr>\n",
              "    <tr>\n",
              "      <th>50%</th>\n",
              "      <td>0.640000</td>\n",
              "      <td>0.720000</td>\n",
              "      <td>4.000000</td>\n",
              "      <td>200.000000</td>\n",
              "      <td>3.000000</td>\n",
              "    </tr>\n",
              "    <tr>\n",
              "      <th>75%</th>\n",
              "      <td>0.820000</td>\n",
              "      <td>0.870000</td>\n",
              "      <td>5.000000</td>\n",
              "      <td>245.000000</td>\n",
              "      <td>4.000000</td>\n",
              "    </tr>\n",
              "    <tr>\n",
              "      <th>max</th>\n",
              "      <td>1.000000</td>\n",
              "      <td>1.000000</td>\n",
              "      <td>7.000000</td>\n",
              "      <td>310.000000</td>\n",
              "      <td>10.000000</td>\n",
              "    </tr>\n",
              "  </tbody>\n",
              "</table>\n",
              "</div>"
            ],
            "text/plain": [
              "       satisfaction_level  ...  time_spend_company\n",
              "count        14999.000000  ...        14999.000000\n",
              "mean             0.612834  ...            3.498233\n",
              "std              0.248631  ...            1.460136\n",
              "min              0.090000  ...            2.000000\n",
              "25%              0.440000  ...            3.000000\n",
              "50%              0.640000  ...            3.000000\n",
              "75%              0.820000  ...            4.000000\n",
              "max              1.000000  ...           10.000000\n",
              "\n",
              "[8 rows x 5 columns]"
            ]
          },
          "metadata": {
            "tags": []
          },
          "execution_count": 11
        }
      ]
    },
    {
      "cell_type": "code",
      "metadata": {
        "id": "MxlzZ83AZidH",
        "colab_type": "code",
        "outputId": "74666ee0-82ea-427e-985a-159568f9d256",
        "colab": {
          "base_uri": "https://localhost:8080/",
          "height": 68
        }
      },
      "source": [
        "hr_data['churn'].value_counts()"
      ],
      "execution_count": 12,
      "outputs": [
        {
          "output_type": "execute_result",
          "data": {
            "text/plain": [
              "0    11428\n",
              "1     3571\n",
              "Name: churn, dtype: int64"
            ]
          },
          "metadata": {
            "tags": []
          },
          "execution_count": 12
        }
      ]
    },
    {
      "cell_type": "code",
      "metadata": {
        "id": "5jKhxa4Eobac",
        "colab_type": "code",
        "outputId": "ee5032d6-e98f-4382-9d78-f503d0a8bf34",
        "colab": {
          "base_uri": "https://localhost:8080/",
          "height": 68
        }
      },
      "source": [
        "hr_data['churn'].value_counts(normalize=True)"
      ],
      "execution_count": 13,
      "outputs": [
        {
          "output_type": "execute_result",
          "data": {
            "text/plain": [
              "0    0.761917\n",
              "1    0.238083\n",
              "Name: churn, dtype: float64"
            ]
          },
          "metadata": {
            "tags": []
          },
          "execution_count": 13
        }
      ]
    },
    {
      "cell_type": "markdown",
      "metadata": {
        "id": "vb9xl_sVIqkY",
        "colab_type": "text"
      },
      "source": [
        "The percentage in people churning from the Company is 23.8%. Whereas the ones who stayed are 76.2%. "
      ]
    },
    {
      "cell_type": "code",
      "metadata": {
        "id": "-GONmln-JF4D",
        "colab_type": "code",
        "colab": {
          "base_uri": "https://localhost:8080/",
          "height": 142
        },
        "outputId": "2062c33e-8cb1-41e9-f13b-7e5003d9b39e"
      },
      "source": [
        "hr_data.groupby('churn').mean()"
      ],
      "execution_count": 14,
      "outputs": [
        {
          "output_type": "execute_result",
          "data": {
            "text/html": [
              "<div>\n",
              "<style scoped>\n",
              "    .dataframe tbody tr th:only-of-type {\n",
              "        vertical-align: middle;\n",
              "    }\n",
              "\n",
              "    .dataframe tbody tr th {\n",
              "        vertical-align: top;\n",
              "    }\n",
              "\n",
              "    .dataframe thead th {\n",
              "        text-align: right;\n",
              "    }\n",
              "</style>\n",
              "<table border=\"1\" class=\"dataframe\">\n",
              "  <thead>\n",
              "    <tr style=\"text-align: right;\">\n",
              "      <th></th>\n",
              "      <th>id</th>\n",
              "      <th>satisfaction_level</th>\n",
              "      <th>last_evaluation</th>\n",
              "      <th>number_project</th>\n",
              "      <th>average_montly_hours</th>\n",
              "      <th>time_spend_company</th>\n",
              "      <th>Work_accident</th>\n",
              "      <th>promotion_last_5years</th>\n",
              "    </tr>\n",
              "    <tr>\n",
              "      <th>churn</th>\n",
              "      <th></th>\n",
              "      <th></th>\n",
              "      <th></th>\n",
              "      <th></th>\n",
              "      <th></th>\n",
              "      <th></th>\n",
              "      <th></th>\n",
              "      <th></th>\n",
              "    </tr>\n",
              "  </thead>\n",
              "  <tbody>\n",
              "    <tr>\n",
              "      <th>0</th>\n",
              "      <td>7811.340742</td>\n",
              "      <td>0.666810</td>\n",
              "      <td>0.715473</td>\n",
              "      <td>3.786664</td>\n",
              "      <td>199.060203</td>\n",
              "      <td>3.380032</td>\n",
              "      <td>0.175009</td>\n",
              "      <td>0.026251</td>\n",
              "    </tr>\n",
              "    <tr>\n",
              "      <th>1</th>\n",
              "      <td>6499.439653</td>\n",
              "      <td>0.440098</td>\n",
              "      <td>0.718113</td>\n",
              "      <td>3.855503</td>\n",
              "      <td>207.419210</td>\n",
              "      <td>3.876505</td>\n",
              "      <td>0.047326</td>\n",
              "      <td>0.005321</td>\n",
              "    </tr>\n",
              "  </tbody>\n",
              "</table>\n",
              "</div>"
            ],
            "text/plain": [
              "                id  satisfaction_level  ...  Work_accident  promotion_last_5years\n",
              "churn                                   ...                                      \n",
              "0      7811.340742            0.666810  ...       0.175009               0.026251\n",
              "1      6499.439653            0.440098  ...       0.047326               0.005321\n",
              "\n",
              "[2 rows x 8 columns]"
            ]
          },
          "metadata": {
            "tags": []
          },
          "execution_count": 14
        }
      ]
    },
    {
      "cell_type": "markdown",
      "metadata": {
        "id": "rHJ4AA8OJOdG",
        "colab_type": "text"
      },
      "source": [
        "Here are my observations:\n",
        "\n",
        "- The average satisfaction level of the employees of the ones who did not churn are higher than the ones who did. \n",
        "- The number of times employees have been promoted in the last 5 years are higher than the ones who did. \n",
        "- The mean of average monthly hours are shorter for the ones who stayed compared to the ones who left but not by a lot.\n",
        "- There are more work accidents for the ones who stayed.\n",
        "- The average of last evaluation, number project and time spend company are very close to each other."
      ]
    },
    {
      "cell_type": "code",
      "metadata": {
        "id": "Ru_dECk8LlW7",
        "colab_type": "code",
        "colab": {
          "base_uri": "https://localhost:8080/",
          "height": 390
        },
        "outputId": "31fb1838-03f2-4f7c-b84e-0a597d1df674"
      },
      "source": [
        "hr_data.groupby('sales').mean()"
      ],
      "execution_count": 15,
      "outputs": [
        {
          "output_type": "execute_result",
          "data": {
            "text/html": [
              "<div>\n",
              "<style scoped>\n",
              "    .dataframe tbody tr th:only-of-type {\n",
              "        vertical-align: middle;\n",
              "    }\n",
              "\n",
              "    .dataframe tbody tr th {\n",
              "        vertical-align: top;\n",
              "    }\n",
              "\n",
              "    .dataframe thead th {\n",
              "        text-align: right;\n",
              "    }\n",
              "</style>\n",
              "<table border=\"1\" class=\"dataframe\">\n",
              "  <thead>\n",
              "    <tr style=\"text-align: right;\">\n",
              "      <th></th>\n",
              "      <th>id</th>\n",
              "      <th>satisfaction_level</th>\n",
              "      <th>last_evaluation</th>\n",
              "      <th>number_project</th>\n",
              "      <th>average_montly_hours</th>\n",
              "      <th>time_spend_company</th>\n",
              "      <th>Work_accident</th>\n",
              "      <th>churn</th>\n",
              "      <th>promotion_last_5years</th>\n",
              "    </tr>\n",
              "    <tr>\n",
              "      <th>sales</th>\n",
              "      <th></th>\n",
              "      <th></th>\n",
              "      <th></th>\n",
              "      <th></th>\n",
              "      <th></th>\n",
              "      <th></th>\n",
              "      <th></th>\n",
              "      <th></th>\n",
              "      <th></th>\n",
              "    </tr>\n",
              "  </thead>\n",
              "  <tbody>\n",
              "    <tr>\n",
              "      <th>IT</th>\n",
              "      <td>7655.845966</td>\n",
              "      <td>0.618142</td>\n",
              "      <td>0.716830</td>\n",
              "      <td>3.816626</td>\n",
              "      <td>202.215974</td>\n",
              "      <td>3.468623</td>\n",
              "      <td>0.133659</td>\n",
              "      <td>0.222494</td>\n",
              "      <td>0.002445</td>\n",
              "    </tr>\n",
              "    <tr>\n",
              "      <th>RandD</th>\n",
              "      <td>6777.346887</td>\n",
              "      <td>0.619822</td>\n",
              "      <td>0.712122</td>\n",
              "      <td>3.853875</td>\n",
              "      <td>200.800508</td>\n",
              "      <td>3.367217</td>\n",
              "      <td>0.170267</td>\n",
              "      <td>0.153748</td>\n",
              "      <td>0.034307</td>\n",
              "    </tr>\n",
              "    <tr>\n",
              "      <th>accounting</th>\n",
              "      <td>7255.035202</td>\n",
              "      <td>0.582151</td>\n",
              "      <td>0.717718</td>\n",
              "      <td>3.825293</td>\n",
              "      <td>201.162973</td>\n",
              "      <td>3.522816</td>\n",
              "      <td>0.125163</td>\n",
              "      <td>0.265971</td>\n",
              "      <td>0.018253</td>\n",
              "    </tr>\n",
              "    <tr>\n",
              "      <th>hr</th>\n",
              "      <td>7035.889039</td>\n",
              "      <td>0.598809</td>\n",
              "      <td>0.708850</td>\n",
              "      <td>3.654939</td>\n",
              "      <td>198.684709</td>\n",
              "      <td>3.355886</td>\n",
              "      <td>0.120433</td>\n",
              "      <td>0.290934</td>\n",
              "      <td>0.020298</td>\n",
              "    </tr>\n",
              "    <tr>\n",
              "      <th>management</th>\n",
              "      <td>9438.363492</td>\n",
              "      <td>0.621349</td>\n",
              "      <td>0.724000</td>\n",
              "      <td>3.860317</td>\n",
              "      <td>201.249206</td>\n",
              "      <td>4.303175</td>\n",
              "      <td>0.163492</td>\n",
              "      <td>0.144444</td>\n",
              "      <td>0.109524</td>\n",
              "    </tr>\n",
              "    <tr>\n",
              "      <th>marketing</th>\n",
              "      <td>7750.684149</td>\n",
              "      <td>0.618601</td>\n",
              "      <td>0.715886</td>\n",
              "      <td>3.687646</td>\n",
              "      <td>199.385781</td>\n",
              "      <td>3.569930</td>\n",
              "      <td>0.160839</td>\n",
              "      <td>0.236597</td>\n",
              "      <td>0.050117</td>\n",
              "    </tr>\n",
              "    <tr>\n",
              "      <th>product_mng</th>\n",
              "      <td>8095.417960</td>\n",
              "      <td>0.619634</td>\n",
              "      <td>0.714756</td>\n",
              "      <td>3.807095</td>\n",
              "      <td>199.965632</td>\n",
              "      <td>3.475610</td>\n",
              "      <td>0.146341</td>\n",
              "      <td>0.219512</td>\n",
              "      <td>0.000000</td>\n",
              "    </tr>\n",
              "    <tr>\n",
              "      <th>sales</th>\n",
              "      <td>7675.873430</td>\n",
              "      <td>0.614447</td>\n",
              "      <td>0.709717</td>\n",
              "      <td>3.776329</td>\n",
              "      <td>200.911353</td>\n",
              "      <td>3.534058</td>\n",
              "      <td>0.141787</td>\n",
              "      <td>0.244928</td>\n",
              "      <td>0.024155</td>\n",
              "    </tr>\n",
              "    <tr>\n",
              "      <th>support</th>\n",
              "      <td>7211.809780</td>\n",
              "      <td>0.618300</td>\n",
              "      <td>0.723109</td>\n",
              "      <td>3.803948</td>\n",
              "      <td>200.758188</td>\n",
              "      <td>3.393001</td>\n",
              "      <td>0.154778</td>\n",
              "      <td>0.248991</td>\n",
              "      <td>0.008973</td>\n",
              "    </tr>\n",
              "    <tr>\n",
              "      <th>technical</th>\n",
              "      <td>7071.437132</td>\n",
              "      <td>0.607897</td>\n",
              "      <td>0.721099</td>\n",
              "      <td>3.877941</td>\n",
              "      <td>202.497426</td>\n",
              "      <td>3.411397</td>\n",
              "      <td>0.140074</td>\n",
              "      <td>0.256250</td>\n",
              "      <td>0.010294</td>\n",
              "    </tr>\n",
              "  </tbody>\n",
              "</table>\n",
              "</div>"
            ],
            "text/plain": [
              "                      id  satisfaction_level  ...     churn  promotion_last_5years\n",
              "sales                                         ...                                 \n",
              "IT           7655.845966            0.618142  ...  0.222494               0.002445\n",
              "RandD        6777.346887            0.619822  ...  0.153748               0.034307\n",
              "accounting   7255.035202            0.582151  ...  0.265971               0.018253\n",
              "hr           7035.889039            0.598809  ...  0.290934               0.020298\n",
              "management   9438.363492            0.621349  ...  0.144444               0.109524\n",
              "marketing    7750.684149            0.618601  ...  0.236597               0.050117\n",
              "product_mng  8095.417960            0.619634  ...  0.219512               0.000000\n",
              "sales        7675.873430            0.614447  ...  0.244928               0.024155\n",
              "support      7211.809780            0.618300  ...  0.248991               0.008973\n",
              "technical    7071.437132            0.607897  ...  0.256250               0.010294\n",
              "\n",
              "[10 rows x 9 columns]"
            ]
          },
          "metadata": {
            "tags": []
          },
          "execution_count": 15
        }
      ]
    },
    {
      "cell_type": "code",
      "metadata": {
        "id": "gcfUdeerLolY",
        "colab_type": "code",
        "colab": {
          "base_uri": "https://localhost:8080/",
          "height": 173
        },
        "outputId": "b80dde44-5cc6-400e-cea3-c7733008208a"
      },
      "source": [
        "hr_data.groupby('salary').mean()"
      ],
      "execution_count": 16,
      "outputs": [
        {
          "output_type": "execute_result",
          "data": {
            "text/html": [
              "<div>\n",
              "<style scoped>\n",
              "    .dataframe tbody tr th:only-of-type {\n",
              "        vertical-align: middle;\n",
              "    }\n",
              "\n",
              "    .dataframe tbody tr th {\n",
              "        vertical-align: top;\n",
              "    }\n",
              "\n",
              "    .dataframe thead th {\n",
              "        text-align: right;\n",
              "    }\n",
              "</style>\n",
              "<table border=\"1\" class=\"dataframe\">\n",
              "  <thead>\n",
              "    <tr style=\"text-align: right;\">\n",
              "      <th></th>\n",
              "      <th>id</th>\n",
              "      <th>satisfaction_level</th>\n",
              "      <th>last_evaluation</th>\n",
              "      <th>number_project</th>\n",
              "      <th>average_montly_hours</th>\n",
              "      <th>time_spend_company</th>\n",
              "      <th>Work_accident</th>\n",
              "      <th>churn</th>\n",
              "      <th>promotion_last_5years</th>\n",
              "    </tr>\n",
              "    <tr>\n",
              "      <th>salary</th>\n",
              "      <th></th>\n",
              "      <th></th>\n",
              "      <th></th>\n",
              "      <th></th>\n",
              "      <th></th>\n",
              "      <th></th>\n",
              "      <th></th>\n",
              "      <th></th>\n",
              "      <th></th>\n",
              "    </tr>\n",
              "  </thead>\n",
              "  <tbody>\n",
              "    <tr>\n",
              "      <th>high</th>\n",
              "      <td>8621.897332</td>\n",
              "      <td>0.637470</td>\n",
              "      <td>0.704325</td>\n",
              "      <td>3.767179</td>\n",
              "      <td>199.867421</td>\n",
              "      <td>3.692805</td>\n",
              "      <td>0.155214</td>\n",
              "      <td>0.066289</td>\n",
              "      <td>0.058205</td>\n",
              "    </tr>\n",
              "    <tr>\n",
              "      <th>low</th>\n",
              "      <td>7326.897622</td>\n",
              "      <td>0.600753</td>\n",
              "      <td>0.717017</td>\n",
              "      <td>3.799891</td>\n",
              "      <td>200.996583</td>\n",
              "      <td>3.438218</td>\n",
              "      <td>0.142154</td>\n",
              "      <td>0.296884</td>\n",
              "      <td>0.009021</td>\n",
              "    </tr>\n",
              "    <tr>\n",
              "      <th>medium</th>\n",
              "      <td>7478.844400</td>\n",
              "      <td>0.621817</td>\n",
              "      <td>0.717322</td>\n",
              "      <td>3.813528</td>\n",
              "      <td>201.338349</td>\n",
              "      <td>3.529010</td>\n",
              "      <td>0.145361</td>\n",
              "      <td>0.204313</td>\n",
              "      <td>0.028079</td>\n",
              "    </tr>\n",
              "  </tbody>\n",
              "</table>\n",
              "</div>"
            ],
            "text/plain": [
              "                 id  satisfaction_level  ...     churn  promotion_last_5years\n",
              "salary                                   ...                                 \n",
              "high    8621.897332            0.637470  ...  0.066289               0.058205\n",
              "low     7326.897622            0.600753  ...  0.296884               0.009021\n",
              "medium  7478.844400            0.621817  ...  0.204313               0.028079\n",
              "\n",
              "[3 rows x 9 columns]"
            ]
          },
          "metadata": {
            "tags": []
          },
          "execution_count": 16
        }
      ]
    },
    {
      "cell_type": "markdown",
      "metadata": {
        "id": "jr9Ui9l_mQNy",
        "colab_type": "text"
      },
      "source": [
        "###Data visualization"
      ]
    },
    {
      "cell_type": "code",
      "metadata": {
        "id": "VObTOf4zIbIl",
        "colab_type": "code",
        "colab": {
          "base_uri": "https://localhost:8080/",
          "height": 279
        },
        "outputId": "ca59b568-34b0-41cc-d893-9a32f5b90139"
      },
      "source": [
        "sb.countplot(x='churn',data=hr_data)\n",
        "plt.show()"
      ],
      "execution_count": 17,
      "outputs": [
        {
          "output_type": "display_data",
          "data": {
            "image/png": "[encoded data removed]",
            "text/plain": [
              "<Figure size 432x288 with 1 Axes>"
            ]
          },
          "metadata": {
            "tags": [],
            "needs_background": "light"
          }
        }
      ]
    },
    {
      "cell_type": "code",
      "metadata": {
        "id": "7dURqNDa8e8d",
        "colab_type": "code",
        "colab": {}
      },
      "source": [
        "def bar_graph(column):\n",
        "  pd.crosstab(hr_data[column], hr_data['churn']).plot(kind='bar')\n",
        "  plt.title('Churn type frequency for '+column)\n",
        "  plt.xlabel(column)\n",
        "  plt.ylabel('Fequency of Churns')\n",
        "  return"
      ],
      "execution_count": 0,
      "outputs": []
    },
    {
      "cell_type": "code",
      "metadata": {
        "id": "dK44XSMz80yR",
        "colab_type": "code",
        "colab": {
          "base_uri": "https://localhost:8080/",
          "height": 352
        },
        "outputId": "0d2571ab-df1d-4ccb-f5c0-c9d83adaa9e6"
      },
      "source": [
        "bar_graph('sales')"
      ],
      "execution_count": 94,
      "outputs": [
        {
          "output_type": "display_data",
          "data": {
            "image/png": "[encoded data removed]",
            "text/plain": [
              "<Figure size 432x288 with 1 Axes>"
            ]
          },
          "metadata": {
            "tags": [],
            "needs_background": "light"
          }
        }
      ]
    },
    {
      "cell_type": "code",
      "metadata": {
        "id": "FhNr6mdZ9Aon",
        "colab_type": "code",
        "colab": {
          "base_uri": "https://localhost:8080/",
          "height": 326
        },
        "outputId": "ef50015d-dcef-4684-d953-7330ea519d2b"
      },
      "source": [
        "bar_graph('salary')"
      ],
      "execution_count": 95,
      "outputs": [
        {
          "output_type": "display_data",
          "data": {
            "image/png": "[encoded data removed]",
            "text/plain": [
              "<Figure size 432x288 with 1 Axes>"
            ]
          },
          "metadata": {
            "tags": [],
            "needs_background": "light"
          }
        }
      ]
    },
    {
      "cell_type": "code",
      "metadata": {
        "id": "AH-n8ioD9ERu",
        "colab_type": "code",
        "colab": {
          "base_uri": "https://localhost:8080/",
          "height": 293
        },
        "outputId": "d418ebe7-3b79-4bc6-e998-efa0eb71ca62"
      },
      "source": [
        "bar_graph('number_project')"
      ],
      "execution_count": 96,
      "outputs": [
        {
          "output_type": "display_data",
          "data": {
            "image/png": "[encoded data removed]",
            "text/plain": [
              "<Figure size 432x288 with 1 Axes>"
            ]
          },
          "metadata": {
            "tags": [],
            "needs_background": "light"
          }
        }
      ]
    },
    {
      "cell_type": "code",
      "metadata": {
        "id": "H3OH2tIx9HKh",
        "colab_type": "code",
        "colab": {
          "base_uri": "https://localhost:8080/",
          "height": 299
        },
        "outputId": "a7263675-0be0-437b-c4ea-227b5d449830"
      },
      "source": [
        "bar_graph('time_spend_company')"
      ],
      "execution_count": 97,
      "outputs": [
        {
          "output_type": "display_data",
          "data": {
            "image/png": "[encoded data removed]",
            "text/plain": [
              "<Figure size 432x288 with 1 Axes>"
            ]
          },
          "metadata": {
            "tags": [],
            "needs_background": "light"
          }
        }
      ]
    },
    {
      "cell_type": "code",
      "metadata": {
        "id": "atn9hZbE9K4j",
        "colab_type": "code",
        "colab": {
          "base_uri": "https://localhost:8080/",
          "height": 293
        },
        "outputId": "86504305-76c9-47b6-84ce-c8147f0536ba"
      },
      "source": [
        "bar_graph('Work_accident')"
      ],
      "execution_count": 98,
      "outputs": [
        {
          "output_type": "display_data",
          "data": {
            "image/png": "[encoded data removed]",
            "text/plain": [
              "<Figure size 432x288 with 1 Axes>"
            ]
          },
          "metadata": {
            "tags": [],
            "needs_background": "light"
          }
        }
      ]
    },
    {
      "cell_type": "code",
      "metadata": {
        "id": "IpqwcIjr9PaU",
        "colab_type": "code",
        "colab": {
          "base_uri": "https://localhost:8080/",
          "height": 293
        },
        "outputId": "142a90c7-8d75-43b9-d31e-7ff73b99d101"
      },
      "source": [
        "bar_graph('promotion_last_5years')"
      ],
      "execution_count": 99,
      "outputs": [
        {
          "output_type": "display_data",
          "data": {
            "image/png": "[encoded data removed]",
            "text/plain": [
              "<Figure size 432x288 with 1 Axes>"
            ]
          },
          "metadata": {
            "tags": [],
            "needs_background": "light"
          }
        }
      ]
    },
    {
      "cell_type": "code",
      "metadata": {
        "id": "iUROeyTq7sRu",
        "colab_type": "code",
        "colab": {}
      },
      "source": [
        "def continous_graph(column):\n",
        "  fig, axs = plt.subplots(2,2,figsize=(10,10))\n",
        "  sb.distplot(hr_data.loc[hr_data['churn']==0,'satisfaction_level'],bins=10, label='0', ax=axs[0][0])\n",
        "  sb.distplot(hr_data.loc[hr_data['churn']==1,'satisfaction_level'],bins=10, label='1',ax=axs[0][0])\n",
        "  sb.boxplot(x='satisfaction_level', data=hr_data,ax=axs[0][1])\n",
        "  sb.boxplot(x='satisfaction_level', data=hr_data.loc[hr_data['churn']==1, :],ax=axs[1][0])\n",
        "  sb.boxplot(x='satisfaction_level', data=hr_data.loc[hr_data['churn']==0, :],ax=axs[1][1])\n",
        "  return"
      ],
      "execution_count": 0,
      "outputs": []
    },
    {
      "cell_type": "code",
      "metadata": {
        "id": "7hMrI04K8MvN",
        "colab_type": "code",
        "colab": {
          "base_uri": "https://localhost:8080/",
          "height": 607
        },
        "outputId": "1a605fff-5a5e-4626-b342-1f14c757c0ec"
      },
      "source": [
        "continous_graph('satisfaction_level')"
      ],
      "execution_count": 87,
      "outputs": [
        {
          "output_type": "display_data",
          "data": {
            "image/png": "[encoded data removed]",
            "text/plain": [
              "<Figure size 720x720 with 4 Axes>"
            ]
          },
          "metadata": {
            "tags": [],
            "needs_background": "light"
          }
        }
      ]
    },
    {
      "cell_type": "code",
      "metadata": {
        "id": "ZdrQ9ARb8Tpe",
        "colab_type": "code",
        "colab": {
          "base_uri": "https://localhost:8080/",
          "height": 607
        },
        "outputId": "16aa3f2d-9a8a-4647-ae6b-0baadf52b6c1"
      },
      "source": [
        "continous_graph('last_evaluation')"
      ],
      "execution_count": 88,
      "outputs": [
        {
          "output_type": "display_data",
          "data": {
            "image/png": "[encoded data removed]",
            "text/plain": [
              "<Figure size 720x720 with 4 Axes>"
            ]
          },
          "metadata": {
            "tags": [],
            "needs_background": "light"
          }
        }
      ]
    },
    {
      "cell_type": "code",
      "metadata": {
        "id": "q515h8ZL8XyH",
        "colab_type": "code",
        "colab": {
          "base_uri": "https://localhost:8080/",
          "height": 607
        },
        "outputId": "7d49cc53-2539-4752-ba37-03298349d326"
      },
      "source": [
        "continous_graph('average_montly_hours')"
      ],
      "execution_count": 90,
      "outputs": [
        {
          "output_type": "display_data",
          "data": {
            "image/png": "[encoded data removed]",
            "text/plain": [
              "<Figure size 720x720 with 4 Axes>"
            ]
          },
          "metadata": {
            "tags": [],
            "needs_background": "light"
          }
        }
      ]
    },
    {
      "cell_type": "markdown",
      "metadata": {
        "id": "q3mNDx51n0A0",
        "colab_type": "text"
      },
      "source": [
        "##Modeling"
      ]
    },
    {
      "cell_type": "code",
      "metadata": {
        "id": "bJwnMWRHYCLb",
        "colab_type": "code",
        "colab": {
          "base_uri": "https://localhost:8080/",
          "height": 136
        },
        "outputId": "24b40c42-2798-41aa-abdc-ce4f8e8e4f01"
      },
      "source": [
        "hr_data_dm.columns"
      ],
      "execution_count": 27,
      "outputs": [
        {
          "output_type": "execute_result",
          "data": {
            "text/plain": [
              "Index(['id', 'satisfaction_level', 'last_evaluation', 'number_project',\n",
              "       'average_montly_hours', 'time_spend_company', 'Work_accident', 'churn',\n",
              "       'promotion_last_5years', 'sales_IT', 'sales_RandD', 'sales_accounting',\n",
              "       'sales_hr', 'sales_management', 'sales_marketing', 'sales_product_mng',\n",
              "       'sales_sales', 'sales_support', 'sales_technical', 'salary_high',\n",
              "       'salary_low', 'salary_medium'],\n",
              "      dtype='object')"
            ]
          },
          "metadata": {
            "tags": []
          },
          "execution_count": 27
        }
      ]
    },
    {
      "cell_type": "code",
      "metadata": {
        "id": "mKz8QUehY2rH",
        "colab_type": "code",
        "colab": {}
      },
      "source": [
        "x_variables=['satisfaction_level', 'last_evaluation', 'number_project',\n",
        "       'average_montly_hours', 'time_spend_company', 'Work_accident',\n",
        "       'promotion_last_5years', 'sales_IT', 'sales_RandD', 'sales_accounting',\n",
        "       'sales_hr', 'sales_management', 'sales_marketing', 'sales_product_mng',\n",
        "       'sales_sales', 'sales_support', 'sales_technical', 'salary_high',\n",
        "       'salary_low', 'salary_medium']"
      ],
      "execution_count": 0,
      "outputs": []
    },
    {
      "cell_type": "code",
      "metadata": {
        "id": "nkHCHQeyQe0Q",
        "colab_type": "code",
        "colab": {}
      },
      "source": [
        "x = hr_data_dm[x_variables]\n",
        "y = hr_data_dm['churn']"
      ],
      "execution_count": 0,
      "outputs": []
    },
    {
      "cell_type": "code",
      "metadata": {
        "id": "r46QdVpZfrWd",
        "colab_type": "code",
        "colab": {}
      },
      "source": [
        "#feature selection\n",
        "logreg=LogisticRegression(penalty='none',solver='lbfgs',verbose=1)\n",
        "x_train, x_test, y_train, y_test = train_test_split(x, y, test_size = 0.2, random_state = 42)"
      ],
      "execution_count": 0,
      "outputs": []
    },
    {
      "cell_type": "code",
      "metadata": {
        "id": "EmRxhVoPrYQM",
        "colab_type": "code",
        "colab": {
          "base_uri": "https://localhost:8080/",
          "height": 34
        },
        "outputId": "3a9b0e80-5784-425e-ca3c-33d6cf6c8c51"
      },
      "source": [
        "x_train.shape"
      ],
      "execution_count": 34,
      "outputs": [
        {
          "output_type": "execute_result",
          "data": {
            "text/plain": [
              "(11999, 20)"
            ]
          },
          "metadata": {
            "tags": []
          },
          "execution_count": 34
        }
      ]
    },
    {
      "cell_type": "code",
      "metadata": {
        "id": "WMwSH9md1E6i",
        "colab_type": "code",
        "colab": {
          "base_uri": "https://localhost:8080/",
          "height": 272
        },
        "outputId": "62fb0f11-2508-42f4-beb7-05f8d55bf1d8"
      },
      "source": [
        "logreg.fit(x_train,y_train)"
      ],
      "execution_count": 35,
      "outputs": [
        {
          "output_type": "stream",
          "text": [
            "[Parallel(n_jobs=1)]: Using backend SequentialBackend with 1 concurrent workers.\n",
            "/usr/local/lib/python3.6/dist-packages/sklearn/linear_model/_logistic.py:940: ConvergenceWarning: lbfgs failed to converge (status=1):\n",
            "STOP: TOTAL NO. of ITERATIONS REACHED LIMIT.\n",
            "\n",
            "Increase the number of iterations (max_iter) or scale the data as shown in:\n",
            "    https://scikit-learn.org/stable/modules/preprocessing.html\n",
            "Please also refer to the documentation for alternative solver options:\n",
            "    https://scikit-learn.org/stable/modules/linear_model.html#logistic-regression\n",
            "  extra_warning_msg=_LOGISTIC_SOLVER_CONVERGENCE_MSG)\n",
            "[Parallel(n_jobs=1)]: Done   1 out of   1 | elapsed:    0.3s finished\n"
          ],
          "name": "stderr"
        },
        {
          "output_type": "execute_result",
          "data": {
            "text/plain": [
              "LogisticRegression(C=1.0, class_weight=None, dual=False, fit_intercept=True,\n",
              "                   intercept_scaling=1, l1_ratio=None, max_iter=100,\n",
              "                   multi_class='auto', n_jobs=None, penalty='none',\n",
              "                   random_state=None, solver='lbfgs', tol=0.0001, verbose=1,\n",
              "                   warm_start=False)"
            ]
          },
          "metadata": {
            "tags": []
          },
          "execution_count": 35
        }
      ]
    },
    {
      "cell_type": "code",
      "metadata": {
        "id": "LLb13sJTravD",
        "colab_type": "code",
        "colab": {}
      },
      "source": [
        "x_train_scaler=StandardScaler()\n",
        "\n",
        "#fit scaler\n",
        "x_train_scaler.fit(x_train)\n",
        "\n",
        "#transform the data\n",
        "x_train_scaled = x_train_scaler.transform(x_train)"
      ],
      "execution_count": 0,
      "outputs": []
    },
    {
      "cell_type": "code",
      "metadata": {
        "id": "j1ucN6mRh5yi",
        "colab_type": "code",
        "colab": {
          "base_uri": "https://localhost:8080/",
          "height": 136
        },
        "outputId": "1c4a02cc-faff-4e40-b8b2-6102e4cf27b3"
      },
      "source": [
        "logreg.fit(x_train_scaled,y_train)"
      ],
      "execution_count": 37,
      "outputs": [
        {
          "output_type": "stream",
          "text": [
            "[Parallel(n_jobs=1)]: Using backend SequentialBackend with 1 concurrent workers.\n",
            "[Parallel(n_jobs=1)]: Done   1 out of   1 | elapsed:    0.0s finished\n"
          ],
          "name": "stderr"
        },
        {
          "output_type": "execute_result",
          "data": {
            "text/plain": [
              "LogisticRegression(C=1.0, class_weight=None, dual=False, fit_intercept=True,\n",
              "                   intercept_scaling=1, l1_ratio=None, max_iter=100,\n",
              "                   multi_class='auto', n_jobs=None, penalty='none',\n",
              "                   random_state=None, solver='lbfgs', tol=0.0001, verbose=1,\n",
              "                   warm_start=False)"
            ]
          },
          "metadata": {
            "tags": []
          },
          "execution_count": 37
        }
      ]
    },
    {
      "cell_type": "code",
      "metadata": {
        "id": "wBsKwQD8lTO3",
        "colab_type": "code",
        "colab": {
          "base_uri": "https://localhost:8080/",
          "height": 85
        },
        "outputId": "91d06f7d-bc42-4819-c106-b5eb0480580b"
      },
      "source": [
        "coef=logreg.coef_\n",
        "coef"
      ],
      "execution_count": 38,
      "outputs": [
        {
          "output_type": "execute_result",
          "data": {
            "text/plain": [
              "array([[-1.04201863,  0.11407237, -0.38544566,  0.25025097,  0.39304588,\n",
              "        -0.53431387, -0.20692624, -0.02904122, -0.14010618,  0.01122554,\n",
              "         0.06904565, -0.07918959,  0.02121624, -0.00450201,  0.00824295,\n",
              "         0.02786085,  0.05296531, -0.41920111,  0.24135083, -0.01133905]])"
            ]
          },
          "metadata": {
            "tags": []
          },
          "execution_count": 38
        }
      ]
    },
    {
      "cell_type": "code",
      "metadata": {
        "id": "T2EVysncmaUW",
        "colab_type": "code",
        "colab": {
          "base_uri": "https://localhost:8080/",
          "height": 136
        },
        "outputId": "d7a3cc2c-7bd6-41ab-9c12-175bbbef0859"
      },
      "source": [
        "x_train.columns"
      ],
      "execution_count": 39,
      "outputs": [
        {
          "output_type": "execute_result",
          "data": {
            "text/plain": [
              "Index(['satisfaction_level', 'last_evaluation', 'number_project',\n",
              "       'average_montly_hours', 'time_spend_company', 'Work_accident',\n",
              "       'promotion_last_5years', 'sales_IT', 'sales_RandD', 'sales_accounting',\n",
              "       'sales_hr', 'sales_management', 'sales_marketing', 'sales_product_mng',\n",
              "       'sales_sales', 'sales_support', 'sales_technical', 'salary_high',\n",
              "       'salary_low', 'salary_medium'],\n",
              "      dtype='object')"
            ]
          },
          "metadata": {
            "tags": []
          },
          "execution_count": 39
        }
      ]
    },
    {
      "cell_type": "markdown",
      "metadata": {
        "id": "kLO-NWC8n0Ed",
        "colab_type": "text"
      },
      "source": [
        "We'll use any coefficients greater than 0.10. So that leaves us with the following variables\n",
        "- satisfaction_level\n",
        "- last_evaluation\n",
        "- number_project\n",
        "- average_monthly_hours\n",
        "- time_spend_company\n",
        "- work_accident\n",
        "- promotion_last_5years\n",
        "- sales_RandD\n",
        "- salary_high\n",
        "- salary_low."
      ]
    },
    {
      "cell_type": "code",
      "metadata": {
        "id": "ehMnJHclrp0c",
        "colab_type": "code",
        "colab": {}
      },
      "source": [
        "x_variables_feature=['satisfaction_level', 'last_evaluation', 'number_project',\n",
        "       'average_montly_hours', 'time_spend_company', 'Work_accident',\n",
        "       'promotion_last_5years', 'sales_RandD', 'salary_high',\n",
        "       'salary_low']"
      ],
      "execution_count": 0,
      "outputs": []
    },
    {
      "cell_type": "code",
      "metadata": {
        "id": "n7UcsOgxruH4",
        "colab_type": "code",
        "colab": {}
      },
      "source": [
        "x2=hr_data_dm[x_variables_feature]\n",
        "y2=hr_data_dm['churn']"
      ],
      "execution_count": 0,
      "outputs": []
    },
    {
      "cell_type": "code",
      "metadata": {
        "id": "foRNlo5FtT1r",
        "colab_type": "code",
        "colab": {}
      },
      "source": [
        "x2_train, x2_test, y2_train, y2_test = train_test_split(x2, y2, test_size=0.2, random_state=42)"
      ],
      "execution_count": 0,
      "outputs": []
    },
    {
      "cell_type": "code",
      "metadata": {
        "id": "7aXczut6ty9b",
        "colab_type": "code",
        "colab": {}
      },
      "source": [
        "x2_train_scaler=StandardScaler()\n",
        "\n",
        "#fit scaler\n",
        "x2_train_scaler.fit(x2_train)\n",
        "\n",
        "#transform the data\n",
        "x2_train_scaled = x2_train_scaler.transform(x2_train)"
      ],
      "execution_count": 0,
      "outputs": []
    },
    {
      "cell_type": "code",
      "metadata": {
        "id": "WBlxTHutszFw",
        "colab_type": "code",
        "colab": {}
      },
      "source": [
        "logreg2 = LogisticRegression(penalty='none',solver='lbfgs',verbose=1)"
      ],
      "execution_count": 0,
      "outputs": []
    },
    {
      "cell_type": "code",
      "metadata": {
        "id": "h18WVnTXs5OI",
        "colab_type": "code",
        "colab": {
          "base_uri": "https://localhost:8080/",
          "height": 292
        },
        "outputId": "e9b8cccc-fce0-4119-f07b-39290895df08"
      },
      "source": [
        "logreg2.fit(x2_train, y2_train)"
      ],
      "execution_count": 45,
      "outputs": [
        {
          "output_type": "stream",
          "text": [
            "[Parallel(n_jobs=1)]: Using backend SequentialBackend with 1 concurrent workers.\n",
            "/usr/local/lib/python3.6/dist-packages/sklearn/linear_model/_logistic.py:940: ConvergenceWarning: lbfgs failed to converge (status=1):\n",
            "STOP: TOTAL NO. of ITERATIONS REACHED LIMIT.\n",
            "\n",
            "Increase the number of iterations (max_iter) or scale the data as shown in:\n",
            "    https://scikit-learn.org/stable/modules/preprocessing.html\n",
            "Please also refer to the documentation for alternative solver options:\n",
            "    https://scikit-learn.org/stable/modules/linear_model.html#logistic-regression\n",
            "  extra_warning_msg=_LOGISTIC_SOLVER_CONVERGENCE_MSG)\n",
            "[Parallel(n_jobs=1)]: Done   1 out of   1 | elapsed:    0.2s finished\n"
          ],
          "name": "stderr"
        },
        {
          "output_type": "execute_result",
          "data": {
            "text/plain": [
              "LogisticRegression(C=1.0, class_weight=None, dual=False, fit_intercept=True,\n",
              "                   intercept_scaling=1, l1_ratio=None, max_iter=100,\n",
              "                   multi_class='auto', n_jobs=None, penalty='none',\n",
              "                   random_state=None, solver='lbfgs', tol=0.0001, verbose=1,\n",
              "                   warm_start=False)"
            ]
          },
          "metadata": {
            "tags": []
          },
          "execution_count": 45
        }
      ]
    },
    {
      "cell_type": "code",
      "metadata": {
        "id": "ytsOw91la6rT",
        "colab_type": "code",
        "colab": {
          "base_uri": "https://localhost:8080/",
          "height": 34
        },
        "outputId": "b0611c09-22a8-4cd7-a52c-fe3a1f0982a9"
      },
      "source": [
        "y2_pred = logreg2.predict(x2_test)\n",
        "print('Accuracy of logistic regression classifier on test set: {:.2f}'.format(logreg2.score(x2_test, y2_test)))"
      ],
      "execution_count": 73,
      "outputs": [
        {
          "output_type": "stream",
          "text": [
            "Accuracy of logistic regression classifier on test set: 0.79\n"
          ],
          "name": "stdout"
        }
      ]
    },
    {
      "cell_type": "code",
      "metadata": {
        "id": "waz4HYEp9tNi",
        "colab_type": "code",
        "colab": {
          "base_uri": "https://localhost:8080/",
          "height": 34
        },
        "outputId": "b555a97e-7918-4db4-b6c0-1570fdb363ba"
      },
      "source": [
        "logreg2.classes_"
      ],
      "execution_count": 103,
      "outputs": [
        {
          "output_type": "execute_result",
          "data": {
            "text/plain": [
              "array([0, 1])"
            ]
          },
          "metadata": {
            "tags": []
          },
          "execution_count": 103
        }
      ]
    },
    {
      "cell_type": "code",
      "metadata": {
        "id": "7J95z7t89k72",
        "colab_type": "code",
        "colab": {
          "base_uri": "https://localhost:8080/",
          "height": 136
        },
        "outputId": "ff897fa1-6c79-438f-9559-1ea867c694fc"
      },
      "source": [
        "logreg2.predict_proba(x2_train)"
      ],
      "execution_count": 101,
      "outputs": [
        {
          "output_type": "execute_result",
          "data": {
            "text/plain": [
              "array([[0.90912836, 0.09087164],\n",
              "       [0.68806533, 0.31193467],\n",
              "       [0.95814735, 0.04185265],\n",
              "       ...,\n",
              "       [0.89412331, 0.10587669],\n",
              "       [0.75223744, 0.24776256],\n",
              "       [0.83454597, 0.16545403]])"
            ]
          },
          "metadata": {
            "tags": []
          },
          "execution_count": 101
        }
      ]
    },
    {
      "cell_type": "code",
      "metadata": {
        "id": "4mYPiH0S6JtC",
        "colab_type": "code",
        "colab": {
          "base_uri": "https://localhost:8080/",
          "height": 170
        },
        "outputId": "7f1e2246-8719-45e9-b8f6-54d43201ecc6"
      },
      "source": [
        "print(classification_report(y_test, y_pred))"
      ],
      "execution_count": 84,
      "outputs": [
        {
          "output_type": "stream",
          "text": [
            "              precision    recall  f1-score   support\n",
            "\n",
            "           0       0.82      0.92      0.87      2294\n",
            "           1       0.58      0.34      0.42       706\n",
            "\n",
            "    accuracy                           0.79      3000\n",
            "   macro avg       0.70      0.63      0.65      3000\n",
            "weighted avg       0.76      0.79      0.76      3000\n",
            "\n"
          ],
          "name": "stdout"
        }
      ]
    },
    {
      "cell_type": "code",
      "metadata": {
        "id": "gCRDS6CB96Jc",
        "colab_type": "code",
        "colab": {}
      },
      "source": [
        ""
      ],
      "execution_count": 0,
      "outputs": []
    },
    {
      "cell_type": "code",
      "metadata": {
        "id": "dyBBPVelao2I",
        "colab_type": "code",
        "colab": {
          "base_uri": "https://localhost:8080/",
          "height": 163
        },
        "outputId": "33e83ccb-4b88-4b9d-94b4-ea36e8b3b07f"
      },
      "source": [
        "confusion_matrix(y2_train.tolist(),y2_pred.tolist())"
      ],
      "execution_count": 82,
      "outputs": [
        {
          "output_type": "error",
          "ename": "TypeError",
          "evalue": "ignored",
          "traceback": [
            "\u001b[0;31m---------------------------------------------------------------------------\u001b[0m",
            "\u001b[0;31mTypeError\u001b[0m                                 Traceback (most recent call last)",
            "\u001b[0;32m<ipython-input-82-2d2a4ea09a5d>\u001b[0m in \u001b[0;36m<module>\u001b[0;34m()\u001b[0m\n\u001b[0;32m----> 1\u001b[0;31m \u001b[0mconfusion_matrix\u001b[0m\u001b[0;34m(\u001b[0m\u001b[0my2_train\u001b[0m\u001b[0;34m.\u001b[0m\u001b[0mtolist\u001b[0m\u001b[0;34m(\u001b[0m\u001b[0;34m)\u001b[0m\u001b[0;34m,\u001b[0m\u001b[0my2_pred\u001b[0m\u001b[0;34m.\u001b[0m\u001b[0mtolist\u001b[0m\u001b[0;34m(\u001b[0m\u001b[0;34m)\u001b[0m\u001b[0;34m)\u001b[0m\u001b[0;34m\u001b[0m\u001b[0;34m\u001b[0m\u001b[0m\n\u001b[0m",
            "\u001b[0;31mTypeError\u001b[0m: 'numpy.ndarray' object is not callable"
          ]
        }
      ]
    }
  ]
}